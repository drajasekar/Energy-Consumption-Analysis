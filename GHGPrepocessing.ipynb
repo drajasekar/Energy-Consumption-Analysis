{
 "cells": [
  {
   "cell_type": "code",
   "execution_count": 1,
   "id": "3f942a89",
   "metadata": {},
   "outputs": [],
   "source": [
    "import glob\n",
    "import pandas as pd\n",
    "import json\n",
    "import requests"
   ]
  },
  {
   "cell_type": "code",
   "execution_count": 26,
   "id": "c6668db4",
   "metadata": {},
   "outputs": [],
   "source": [
    "df1 = pd.read_excel(r\"C:\\Users\\Rajasekar\\Downloads\\2021_final_bps_dataset (2).xlsx\")\n",
    "df2 = pd.read_excel(r\"C:\\Users\\Rajasekar\\Downloads\\2020_final_data_set_1.xlsx\")\n",
    "df3 = pd.read_excel(r\"C:\\Users\\Rajasekar\\Downloads\\2019_final_data_set (2).xlsx\")\n",
    "df4 = pd.read_excel(r\"C:\\Users\\Rajasekar\\Downloads\\2018_final_data_set (2).xlsx\")\n",
    "df5 = pd.read_excel(r\"C:\\Users\\Rajasekar\\Downloads\\2017_energy_consumption (1).xlsx\")\n",
    "df6 = pd.read_excel(r\"C:\\Users\\Rajasekar\\Downloads\\bps_2016_report_english (2).xlsx\")\n",
    "df7 = pd.read_excel(r\"C:\\Users\\Rajasekar\\Downloads\\bps_2015_report_english (2).xlsx\")\n",
    "df8 = pd.read_excel(r\"C:\\Users\\Rajasekar\\Downloads\\bps_2014_report_english (2).xlsx\")                  \n",
    "df9 = pd.read_excel(r\"C:\\Users\\Rajasekar\\Downloads\\bps_2013_report_english (2).xlsx\")\n",
    "df10 = pd.read_excel(r\"C:\\Users\\Rajasekar\\Downloads\\bps_2012_report_english (2).xlsx\")\n",
    "df11= pd.read_excel(r\"C:\\Users\\Rajasekar\\Downloads\\bps_2011_report_english (1).xlsx\")"
   ]
  },
  {
   "cell_type": "code",
   "execution_count": 27,
   "id": "ca4d49fb",
   "metadata": {},
   "outputs": [],
   "source": [
    "# Concatenate all DataFrames\n",
    "dfss = [df11,df10,df9,df8,df7,df6,df5,df4,df3,df2,df1]\n",
    "merged_d = pd.concat(dfss, ignore_index=True)"
   ]
  },
  {
   "cell_type": "code",
   "execution_count": 28,
   "id": "214b003c",
   "metadata": {},
   "outputs": [
    {
     "name": "stdout",
     "output_type": "stream",
     "text": [
      "<class 'pandas.core.frame.DataFrame'>\n",
      "RangeIndex: 189099 entries, 0 to 189098\n",
      "Data columns (total 71 columns):\n",
      " #   Column                                                         Non-Null Count   Dtype  \n",
      "---  ------                                                         --------------   -----  \n",
      " 0   Sector                                                         189099 non-null  object \n",
      " 1   SubSector                                                      189094 non-null  object \n",
      " 2   Organization                                                   189099 non-null  object \n",
      " 3   Operation                                                      173867 non-null  object \n",
      " 4   Operation Type                                                 189099 non-null  object \n",
      " 5   Address                                                        188992 non-null  object \n",
      " 6   City                                                           189098 non-null  object \n",
      " 7   Postal Code                                                    188919 non-null  object \n",
      " 8   Total Indoor Space_x                                           185994 non-null  float64\n",
      " 9   Unit of Measure                                                163954 non-null  object \n",
      " 10  AnnualFlow(M)                                                  4278 non-null    float64\n",
      " 11  Weekly Average Hours                                           169476 non-null  float64\n",
      " 12  Electricity_Quantity                                           18489 non-null   float64\n",
      " 13  Unit2                                                          18489 non-null   object \n",
      " 14  NaturalGas_Quantity                                            183391 non-null  object \n",
      " 15  NaturalGas_Unit                                                122107 non-null  object \n",
      " 16  FuelOil12_Quantity                                             174644 non-null  object \n",
      " 17  FuelOil46_Quantity                                             173909 non-null  object \n",
      " 18  Propane_Quantity                                               159296 non-null  float64\n",
      " 19  Propane Unit                                                   23539 non-null   object \n",
      " 20  Coal Quantity                                                  158607 non-null  object \n",
      " 21  Coal Unit                                                      22122 non-null   object \n",
      " 22  Wood_Quantity                                                  173844 non-null  object \n",
      " 23  Wood_Unit                                                      22175 non-null   object \n",
      " 24  DistrictHeating_Quantity                                       174005 non-null  object \n",
      " 25  DistrictHeating_Unit                                           5519 non-null    object \n",
      " 26  DistrictHeating_IsRenewable                                    37852 non-null   object \n",
      " 27  DistrictHeating_RenewableEmissionFactor                        137307 non-null  float64\n",
      " 28  DistrictCooling_Quantity                                       173954 non-null  object \n",
      " 29  DistrictCooling_Unit                                           4263 non-null    object \n",
      " 30  DistrictCooling_IsRenewable                                    37462 non-null   object \n",
      " 31  DistrictCooling_RenewableEmissionFactor                        7 non-null       float64\n",
      " 32  Swimming Pool                                                  94568 non-null   object \n",
      " 33  GHG Emissions KG                                               189066 non-null  object \n",
      " 34  Energy Intensity ekWh_sqft                                     170588 non-null  float64\n",
      " 35  Energy Intensity ekWh_mega_litre                               158216 non-null  float64\n",
      " 36  Energy Intensity GJ_m2                                         165644 non-null  float64\n",
      " 37  Energy Intensity GJ_mega_litre                                 157628 non-null  float64\n",
      " 38  Annual Flow(M)                                                 144565 non-null  float64\n",
      " 39  Electricity_Quantity                                           170346 non-null  object \n",
      " 40  Electricity Unit                                               33210 non-null   object \n",
      " 41  DistrictHeating Unit                                           17978 non-null   object \n",
      " 42  DistrictCooling Unit                                           17978 non-null   object \n",
      " 43  DistrictCooling_RenewableEmissionFactor                        137389 non-null  float64\n",
      " 44  Electricity_Unit                                               134711 non-null  object \n",
      " 45  FuelOil12_Unit                                                 4865 non-null    object \n",
      " 46  FuelOil46_Unit                                                 390 non-null     object \n",
      " 47  DistrictCooling_Unit                                           846 non-null     object \n",
      " 48  Propane_Unit                                                   6107 non-null    object \n",
      " 49  Coal_Unit                                                      1 non-null       object \n",
      " 50  Year                                                           32107 non-null   object \n",
      " 51  Property Name                                                  15232 non-null   object \n",
      " 52  Diesel Quantity                                                15232 non-null   object \n",
      " 53  Kerosene Quantity                                              15232 non-null   object \n",
      " 54  Propane_Quantity                                               15232 non-null   object \n",
      " 55  District Steam Quantity                                        15232 non-null   object \n",
      " 56  Site Energy Use (GJ)                                           15232 non-null   object \n",
      " 57  Source Energy Use (GJ)                                         15232 non-null   object \n",
      " 58  Site EUI (GJ/m²)                                               15232 non-null   object \n",
      " 59  Site EUI (ekWh/sqft)                                           15232 non-null   object \n",
      " 60  Source EUI (GJ/m²)                                             15232 non-null   object \n",
      " 61  Source EUI (ekWh/sqft)                                         15232 non-null   object \n",
      " 62  Weather Normalized Site Energy Use (GJ)                        15232 non-null   object \n",
      " 63  Weather Normalized Source Energy Use (GJ)                      15232 non-null   object \n",
      " 64  Weather Normalized Site EUI (GJ/m²)                            15232 non-null   object \n",
      " 65  Weather Normalized Site EUI (ekWh/sqft)                        15232 non-null   object \n",
      " 66  Weather Normalized Source EUI (GJ/m²)                          15232 non-null   object \n",
      " 67  Weather Normalized Source EUI (ekWh/sqft)                      15232 non-null   object \n",
      " 68  Drinking Water Treatment & Distribution - Average Flow (m³PD)  15232 non-null   object \n",
      " 69  Wastewater Treatment Plant - Average Influent Flow (m³PD)      15232 non-null   object \n",
      " 70  List of All Property Use Types (GFA) (m²)                      15232 non-null   object \n",
      "dtypes: float64(13), object(58)\n",
      "memory usage: 102.4+ MB\n"
     ]
    }
   ],
   "source": [
    "merged_d.info()"
   ]
  },
  {
   "cell_type": "code",
   "execution_count": 30,
   "id": "1f704871",
   "metadata": {},
   "outputs": [],
   "source": [
    "merged_d.to_csv('GHGfinaldata.csv', index = False)"
   ]
  },
  {
   "cell_type": "code",
   "execution_count": 31,
   "id": "e8a0779a",
   "metadata": {},
   "outputs": [],
   "source": [
    "#EDA"
   ]
  },
  {
   "cell_type": "code",
   "execution_count": null,
   "id": "33f86516",
   "metadata": {},
   "outputs": [],
   "source": []
  }
 ],
 "metadata": {
  "kernelspec": {
   "display_name": "Python 3 (ipykernel)",
   "language": "python",
   "name": "python3"
  },
  "language_info": {
   "codemirror_mode": {
    "name": "ipython",
    "version": 3
   },
   "file_extension": ".py",
   "mimetype": "text/x-python",
   "name": "python",
   "nbconvert_exporter": "python",
   "pygments_lexer": "ipython3",
   "version": "3.10.9"
  }
 },
 "nbformat": 4,
 "nbformat_minor": 5
}
